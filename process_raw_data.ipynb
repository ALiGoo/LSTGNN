{
 "cells": [
  {
   "cell_type": "code",
   "execution_count": 1,
   "metadata": {},
   "outputs": [],
   "source": [
    "import pandas as pd\n",
    "import numpy as np\n",
    "import json\n",
    "from joblib import Parallel, delayed\n",
    "from glob import glob\n",
    "from datetime import datetime\n",
    "import pickle\n",
    "pickle.HIGHEST_PROTOCOL = 4"
   ]
  },
  {
   "cell_type": "code",
   "execution_count": 2,
   "metadata": {},
   "outputs": [],
   "source": [
    "with open(\"raw_data_201306_201709/station_information.json\", \"r\") as jsonfile:\n",
    "    station_info = json.load(jsonfile)['data']['stations']\n",
    "station_info = pd.json_normalize(station_info)[['station_id', 'name', 'lat', 'lon', ]]\n",
    "station_info = station_info.astype({\"station_id\": np.int16, \"lat\": np.float32, \"lon\": np.float32})\n",
    "station_info.rename(columns={'station_id':'stationid'}, inplace=True)"
   ]
  },
  {
   "cell_type": "code",
   "execution_count": 3,
   "metadata": {},
   "outputs": [],
   "source": [
    "def read_citibike(path):\n",
    "    \n",
    "    dtype = {\n",
    "        \"tripduration\": np.int32,\n",
    "        \"startstationlatitude\": np.float32,\n",
    "        \"startstationlongitude\": np.float32,\n",
    "        \"endstationlatitude\": np.float32,\n",
    "        \"endstationlongitude\": np.float32,\n",
    "        \"bikeid\": np.int32,\n",
    "        \"gender\": np.int8,\n",
    "    }\n",
    "\n",
    "    names = [\n",
    "        \"tripduration\",\n",
    "        \"starttime\",\n",
    "        \"stoptime\",\n",
    "        \"startstationid\",\n",
    "        \"startstationname\",\n",
    "        \"startstationlatitude\",\n",
    "        \"startstationlongitude\",\n",
    "        \"endstationid\",\n",
    "        \"endstationname\",\n",
    "        \"endstationlatitude\",\n",
    "        \"endstationlongitude\",\n",
    "        \"bikeid\",\n",
    "        \"usertype\",\n",
    "        \"birthyear\",\n",
    "        \"gender\",\n",
    "    ]\n",
    "\n",
    "    df = pd.read_csv(\n",
    "        path,\n",
    "        header=0,\n",
    "        names=names,\n",
    "        dtype=dtype,\n",
    "        engine=\"c\",\n",
    "        parse_dates=[\"starttime\", \"stoptime\"],\n",
    "    )\n",
    "    df.dropna(subset=[\"startstationid\", \"endstationid\"], inplace=True)\n",
    "    df = df.astype({\"startstationid\": np.int16, \"endstationid\": np.int16})\n",
    "    df.drop_duplicates(\n",
    "        subset=[\"bikeid\", \"startstationid\", \"endstationid\", \"starttime\", \"stoptime\",],\n",
    "        inplace=True,\n",
    "    )\n",
    "    df.drop(columns=['bikeid', 'birthyear'], inplace=True)\n",
    "    df.query(\n",
    "        \"starttime < stoptime\",\n",
    "        inplace=True,\n",
    "    )\n",
    "\n",
    "    return df"
   ]
  },
  {
   "cell_type": "code",
   "execution_count": 4,
   "metadata": {
    "scrolled": true
   },
   "outputs": [
    {
     "name": "stdout",
     "output_type": "stream",
     "text": [
      "[Parallel(n_jobs=-1)]: Using backend LokyBackend with 32 concurrent workers.\n",
      "[Parallel(n_jobs=-1)]: Done   1 tasks      | elapsed:    3.9s\n",
      "[Parallel(n_jobs=-1)]: Done   2 out of  51 | elapsed:    4.3s remaining:  1.7min\n",
      "[Parallel(n_jobs=-1)]: Done   4 out of  51 | elapsed:    6.0s remaining:  1.2min\n",
      "[Parallel(n_jobs=-1)]: Done   6 out of  51 | elapsed:    6.7s remaining:   50.4s\n",
      "[Parallel(n_jobs=-1)]: Done   8 out of  51 | elapsed:    7.3s remaining:   39.2s\n",
      "[Parallel(n_jobs=-1)]: Done  10 out of  51 | elapsed:    8.3s remaining:   33.9s\n",
      "[Parallel(n_jobs=-1)]: Done  12 out of  51 | elapsed:    9.4s remaining:   30.5s\n",
      "[Parallel(n_jobs=-1)]: Done  14 out of  51 | elapsed:   10.0s remaining:   26.5s\n",
      "[Parallel(n_jobs=-1)]: Done  16 out of  51 | elapsed:   11.2s remaining:   24.5s\n",
      "[Parallel(n_jobs=-1)]: Done  18 out of  51 | elapsed:   12.4s remaining:   22.8s\n",
      "[Parallel(n_jobs=-1)]: Done  20 out of  51 | elapsed:   13.8s remaining:   21.4s\n",
      "[Parallel(n_jobs=-1)]: Done  22 out of  51 | elapsed:   14.6s remaining:   19.3s\n",
      "[Parallel(n_jobs=-1)]: Done  24 out of  51 | elapsed:   15.8s remaining:   17.8s\n",
      "[Parallel(n_jobs=-1)]: Done  26 out of  51 | elapsed:   17.0s remaining:   16.3s\n",
      "[Parallel(n_jobs=-1)]: Done  28 out of  51 | elapsed:   20.7s remaining:   17.0s\n",
      "[Parallel(n_jobs=-1)]: Done  30 out of  51 | elapsed:   22.2s remaining:   15.6s\n",
      "[Parallel(n_jobs=-1)]: Done  32 out of  51 | elapsed:  2.1min remaining:  1.3min\n",
      "[Parallel(n_jobs=-1)]: Done  34 out of  51 | elapsed:  2.9min remaining:  1.4min\n",
      "[Parallel(n_jobs=-1)]: Done  36 out of  51 | elapsed:  3.6min remaining:  1.5min\n",
      "[Parallel(n_jobs=-1)]: Done  38 out of  51 | elapsed:  4.0min remaining:  1.4min\n",
      "[Parallel(n_jobs=-1)]: Done  40 out of  51 | elapsed:  4.2min remaining:  1.2min\n",
      "[Parallel(n_jobs=-1)]: Done  42 out of  51 | elapsed:  4.4min remaining:   56.7s\n",
      "[Parallel(n_jobs=-1)]: Done  44 out of  51 | elapsed:  4.7min remaining:   45.2s\n",
      "[Parallel(n_jobs=-1)]: Done  46 out of  51 | elapsed:  5.1min remaining:   33.3s\n",
      "[Parallel(n_jobs=-1)]: Done  48 out of  51 | elapsed:  5.3min remaining:   20.0s\n",
      "[Parallel(n_jobs=-1)]: Done  51 out of  51 | elapsed:  6.7min finished\n"
     ]
    }
   ],
   "source": [
    "df_whole = Parallel(n_jobs=-1, verbose=50, backend=\"loky\")(delayed(read_citibike)(path) for path in glob(\"raw_data_201306_201709/*trip*.csv\"))\n",
    "df_whole = pd.concat(df_whole)"
   ]
  },
  {
   "cell_type": "code",
   "execution_count": 5,
   "metadata": {},
   "outputs": [
    {
     "name": "stdout",
     "output_type": "stream",
     "text": [
      "---------before---------\n",
      "Total startstationid: 767\n",
      "Total endstationid: 804\n",
      "---------after---------\n",
      "Total startstationid: 764\n",
      "Total endstationid: 799\n"
     ]
    }
   ],
   "source": [
    "# drop records that are test\n",
    "startstationid = df_whole.startstationid.unique()\n",
    "endstationid = df_whole.endstationid.unique()\n",
    "\n",
    "print(\"---------before---------\")\n",
    "print(f\"Total startstationid: {len(startstationid)}\")\n",
    "print(f\"Total endstationid: {len(endstationid)}\")\n",
    "    \n",
    "df_whole.query(\"startstationlatitude != 0 & startstationlongitude != 0 & endstationlatitude != 0 & endstationlongitude != 0\", inplace=True,)\n",
    "\n",
    "startstationid = df_whole.startstationid.unique()\n",
    "endstationid = df_whole.endstationid.unique()\n",
    "\n",
    "print(\"---------after---------\")\n",
    "print(f\"Total startstationid: {len(startstationid)}\")\n",
    "print(f\"Total endstationid: {len(endstationid)}\")"
   ]
  },
  {
   "cell_type": "code",
   "execution_count": 6,
   "metadata": {},
   "outputs": [
    {
     "name": "stdout",
     "output_type": "stream",
     "text": [
      "---------before---------\n",
      "Total startstationid: 764\n",
      "Total endstationid: 799\n",
      "---------after---------\n",
      "Total startstationid: 764\n",
      "Total endstationid: 764\n"
     ]
    }
   ],
   "source": [
    "# drop the stations that are at NJC or test station\n",
    "startstationid = df_whole.startstationid.unique()\n",
    "endstationid = df_whole.endstationid.unique()\n",
    "\n",
    "print (\"---------before---------\")\n",
    "print (f\"Total startstationid: {len(startstationid)}\")\n",
    "print (f\"Total endstationid: {len(endstationid)}\")\n",
    "    \n",
    "pop_id = endstationid[~np.isin(endstationid, startstationid)]\n",
    "df_whole.query(\n",
    "    \"startstationid not in @pop_id & endstationid not in @pop_id\", inplace=True\n",
    ")\n",
    "\n",
    "startstationid = df_whole.startstationid.unique()\n",
    "endstationid = df_whole.endstationid.unique()\n",
    "\n",
    "print (\"---------after---------\")\n",
    "print (f\"Total startstationid: {len(startstationid)}\")\n",
    "print (f\"Total endstationid: {len(endstationid)}\")"
   ]
  },
  {
   "cell_type": "code",
   "execution_count": 7,
   "metadata": {},
   "outputs": [
    {
     "data": {
      "text/html": [
       "<div>\n",
       "<style scoped>\n",
       "    .dataframe tbody tr th:only-of-type {\n",
       "        vertical-align: middle;\n",
       "    }\n",
       "\n",
       "    .dataframe tbody tr th {\n",
       "        vertical-align: top;\n",
       "    }\n",
       "\n",
       "    .dataframe thead th {\n",
       "        text-align: right;\n",
       "    }\n",
       "</style>\n",
       "<table border=\"1\" class=\"dataframe\">\n",
       "  <thead>\n",
       "    <tr style=\"text-align: right;\">\n",
       "      <th></th>\n",
       "      <th>stationid</th>\n",
       "      <th>name</th>\n",
       "      <th>lat</th>\n",
       "      <th>lon</th>\n",
       "    </tr>\n",
       "  </thead>\n",
       "  <tbody>\n",
       "    <tr>\n",
       "      <th>1374071</th>\n",
       "      <td>3488</td>\n",
       "      <td>8D QC Station 01</td>\n",
       "      <td>45.506363</td>\n",
       "      <td>-73.569466</td>\n",
       "    </tr>\n",
       "    <tr>\n",
       "      <th>1254423</th>\n",
       "      <td>3266</td>\n",
       "      <td>Kiosk in a box Deployment</td>\n",
       "      <td>40.708611</td>\n",
       "      <td>-73.928505</td>\n",
       "    </tr>\n",
       "    <tr>\n",
       "      <th>1348812</th>\n",
       "      <td>3485</td>\n",
       "      <td>NYCBS Depot - RIS</td>\n",
       "      <td>40.725208</td>\n",
       "      <td>-73.974724</td>\n",
       "    </tr>\n",
       "    <tr>\n",
       "      <th>1811965</th>\n",
       "      <td>3567</td>\n",
       "      <td>11 St &amp; 35 Ave</td>\n",
       "      <td>40.762745</td>\n",
       "      <td>-73.939117</td>\n",
       "    </tr>\n",
       "    <tr>\n",
       "      <th>1866243</th>\n",
       "      <td>3556</td>\n",
       "      <td>24 St &amp; 41 Ave</td>\n",
       "      <td>40.752708</td>\n",
       "      <td>-73.939743</td>\n",
       "    </tr>\n",
       "  </tbody>\n",
       "</table>\n",
       "</div>"
      ],
      "text/plain": [
       "         stationid                       name        lat        lon\n",
       "1374071       3488           8D QC Station 01  45.506363 -73.569466\n",
       "1254423       3266  Kiosk in a box Deployment  40.708611 -73.928505\n",
       "1348812       3485          NYCBS Depot - RIS  40.725208 -73.974724\n",
       "1811965       3567             11 St & 35 Ave  40.762745 -73.939117\n",
       "1866243       3556             24 St & 41 Ave  40.752708 -73.939743"
      ]
     },
     "execution_count": 7,
     "metadata": {},
     "output_type": "execute_result"
    }
   ],
   "source": [
    "lost_station = pd.concat([df_whole[['startstationid', 'startstationname', 'startstationlatitude', 'startstationlongitude']].drop_duplicates(subset='startstationid', keep=\"last\").rename(columns={'startstationid':'stationid', 'startstationname':'name', 'startstationlatitude':'lat','startstationlongitude':'lon'}), df_whole[['endstationid', 'endstationname', 'endstationlatitude', 'endstationlongitude']].drop_duplicates(subset='endstationid', keep=\"last\").rename(columns={'endstationid':'stationid', 'endstationname':'name', 'endstationlatitude':'lat','endstationlongitude':'lon'})])\n",
    "lost_station = (\n",
    "    lost_station\n",
    "    .drop_duplicates(subset='stationid', keep=\"last\")\n",
    "    .query('stationid not in @station_info.stationid')\n",
    ")\n",
    "lost_station.head(5)"
   ]
  },
  {
   "cell_type": "code",
   "execution_count": 8,
   "metadata": {},
   "outputs": [
    {
     "data": {
      "text/plain": [
       "764"
      ]
     },
     "execution_count": 8,
     "metadata": {},
     "output_type": "execute_result"
    }
   ],
   "source": [
    "station_info = (\n",
    "    pd.concat([station_info, lost_station])\n",
    "    .query('stationid in @startstationid | stationid in @endstationid')\n",
    "    .sort_values(\"stationid\")\n",
    "    .reset_index(drop=True)\n",
    ")\n",
    "len(station_info)"
   ]
  },
  {
   "cell_type": "code",
   "execution_count": 9,
   "metadata": {},
   "outputs": [],
   "source": [
    "# generate station info\n",
    "starttime = df_whole.groupby(\"startstationid\")[\"starttime\"].min().dt.floor(\"D\").values\n",
    "stoptime = df_whole.groupby(\"endstationid\")[\"stoptime\"].min().dt.floor(\"D\").values\n",
    "station_info[\"earliest\"] = np.where(starttime < stoptime, starttime, stoptime)\n",
    "\n",
    "starttime = df_whole.groupby(\"startstationid\")[\"starttime\"].max().dt.floor(\"D\").values\n",
    "stoptime = df_whole.groupby(\"endstationid\")[\"stoptime\"].max().dt.floor(\"D\").values\n",
    "station_info[\"latest\"] = np.where(starttime > stoptime, starttime, stoptime)"
   ]
  },
  {
   "cell_type": "markdown",
   "metadata": {},
   "source": [
    "# Weather"
   ]
  },
  {
   "cell_type": "code",
   "execution_count": 10,
   "metadata": {},
   "outputs": [
    {
     "name": "stderr",
     "output_type": "stream",
     "text": [
      "/home/coh4ry7z/.local/share/virtualenvs/gnn_bike-_zcouuMc/lib/python3.8/site-packages/IPython/core/interactiveshell.py:3165: DtypeWarning: Columns (43,48) have mixed types.Specify dtype option on import or set low_memory=False.\n",
      "  has_raised = await self.run_ast_nodes(code_ast.body, cell_name,\n"
     ]
    }
   ],
   "source": [
    "usecols = [\n",
    "    \"DATE\",\n",
    "    \"HourlyDryBulbTemperature\",\n",
    "    \"HourlyPrecipitation\",\n",
    "    \"HourlyRelativeHumidity\",\n",
    "    \"HourlyWindSpeed\",\n",
    "]\n",
    "weather = pd.read_csv(\"raw_data_201306_201709/weather.csv\", parse_dates=[\"DATE\"], usecols=usecols)"
   ]
  },
  {
   "cell_type": "code",
   "execution_count": 11,
   "metadata": {},
   "outputs": [],
   "source": [
    "# 選擇要的column並對na補值\n",
    "weather = (\n",
    "    weather.assign(\n",
    "        DATE=weather.DATE.dt.ceil(\"H\"),\n",
    "        HourlyDryBulbTemperature=pd.to_numeric(\n",
    "            weather.HourlyDryBulbTemperature, errors=\"coerce\", downcast=\"float\"\n",
    "        ),\n",
    "        HourlyPrecipitation=pd.to_numeric(\n",
    "            weather.HourlyPrecipitation, errors=\"coerce\", downcast=\"float\"\n",
    "        ),\n",
    "        HourlyRelativeHumidity=pd.to_numeric(\n",
    "            weather.HourlyRelativeHumidity, errors=\"coerce\", downcast=\"float\"\n",
    "        ),\n",
    "    )\n",
    "    .groupby(\"DATE\", as_index=False)\n",
    "    .mean()\n",
    "    .fillna(method=\"ffill\")\n",
    "    .rename(columns={\"DATE\": \"time\"})\n",
    ")"
   ]
  },
  {
   "cell_type": "code",
   "execution_count": 12,
   "metadata": {},
   "outputs": [
    {
     "name": "stderr",
     "output_type": "stream",
     "text": [
      "/home/coh4ry7z/.local/share/virtualenvs/gnn_bike-_zcouuMc/lib/python3.8/site-packages/pandas/core/generic.py:2606: PerformanceWarning: \n",
      "your performance may suffer as PyTables will pickle object types that it cannot\n",
      "map directly to c-types [inferred_type->mixed,key->block5_values] [items->Index(['startstationname', 'endstationname', 'usertype'], dtype='object')]\n",
      "\n",
      "  pytables.to_hdf(\n"
     ]
    }
   ],
   "source": [
    "df_whole.to_hdf(\"process_data_201306_201709/citibike_raw.h5\", key=\"raw\", mode=\"w\")\n",
    "station_info.to_hdf('process_data_201306_201709/citibike_raw.h5', key=\"info\", mode=\"r+\")\n",
    "weather.to_hdf('process_data_201306_201709/citibike_raw.h5', key=\"weather\", mode=\"r+\")"
   ]
  },
  {
   "cell_type": "code",
   "execution_count": null,
   "metadata": {},
   "outputs": [],
   "source": []
  }
 ],
 "metadata": {
  "interpreter": {
   "hash": "c7f005c9eb10576b0dd0d76b329f6458f33a25e1529a0f47339bb62553208656"
  },
  "kernelspec": {
   "display_name": "gnn_bike",
   "language": "python",
   "name": "gnn_bike"
  },
  "language_info": {
   "codemirror_mode": {
    "name": "ipython",
    "version": 3
   },
   "file_extension": ".py",
   "mimetype": "text/x-python",
   "name": "python",
   "nbconvert_exporter": "python",
   "pygments_lexer": "ipython3",
   "version": "3.8.10"
  }
 },
 "nbformat": 4,
 "nbformat_minor": 4
}
