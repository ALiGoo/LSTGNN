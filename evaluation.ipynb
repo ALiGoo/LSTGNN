{
 "cells": [
  {
   "cell_type": "code",
   "execution_count": 1,
   "metadata": {},
   "outputs": [
    {
     "data": {
      "text/html": [
       "\n",
       "    <div class=\"bk-root\">\n",
       "        <a href=\"https://bokeh.org\" target=\"_blank\" class=\"bk-logo bk-logo-small bk-logo-notebook\"></a>\n",
       "        <span id=\"1002\">Loading BokehJS ...</span>\n",
       "    </div>"
      ]
     },
     "metadata": {},
     "output_type": "display_data"
    },
    {
     "data": {
      "application/javascript": [
       "\n",
       "(function(root) {\n",
       "  function now() {\n",
       "    return new Date();\n",
       "  }\n",
       "\n",
       "  var force = true;\n",
       "\n",
       "  if (typeof root._bokeh_onload_callbacks === \"undefined\" || force === true) {\n",
       "    root._bokeh_onload_callbacks = [];\n",
       "    root._bokeh_is_loading = undefined;\n",
       "  }\n",
       "\n",
       "  var JS_MIME_TYPE = 'application/javascript';\n",
       "  var HTML_MIME_TYPE = 'text/html';\n",
       "  var EXEC_MIME_TYPE = 'application/vnd.bokehjs_exec.v0+json';\n",
       "  var CLASS_NAME = 'output_bokeh rendered_html';\n",
       "\n",
       "  /**\n",
       "   * Render data to the DOM node\n",
       "   */\n",
       "  function render(props, node) {\n",
       "    var script = document.createElement(\"script\");\n",
       "    node.appendChild(script);\n",
       "  }\n",
       "\n",
       "  /**\n",
       "   * Handle when an output is cleared or removed\n",
       "   */\n",
       "  function handleClearOutput(event, handle) {\n",
       "    var cell = handle.cell;\n",
       "\n",
       "    var id = cell.output_area._bokeh_element_id;\n",
       "    var server_id = cell.output_area._bokeh_server_id;\n",
       "    // Clean up Bokeh references\n",
       "    if (id != null && id in Bokeh.index) {\n",
       "      Bokeh.index[id].model.document.clear();\n",
       "      delete Bokeh.index[id];\n",
       "    }\n",
       "\n",
       "    if (server_id !== undefined) {\n",
       "      // Clean up Bokeh references\n",
       "      var cmd = \"from bokeh.io.state import curstate; print(curstate().uuid_to_server['\" + server_id + \"'].get_sessions()[0].document.roots[0]._id)\";\n",
       "      cell.notebook.kernel.execute(cmd, {\n",
       "        iopub: {\n",
       "          output: function(msg) {\n",
       "            var id = msg.content.text.trim();\n",
       "            if (id in Bokeh.index) {\n",
       "              Bokeh.index[id].model.document.clear();\n",
       "              delete Bokeh.index[id];\n",
       "            }\n",
       "          }\n",
       "        }\n",
       "      });\n",
       "      // Destroy server and session\n",
       "      var cmd = \"import bokeh.io.notebook as ion; ion.destroy_server('\" + server_id + \"')\";\n",
       "      cell.notebook.kernel.execute(cmd);\n",
       "    }\n",
       "  }\n",
       "\n",
       "  /**\n",
       "   * Handle when a new output is added\n",
       "   */\n",
       "  function handleAddOutput(event, handle) {\n",
       "    var output_area = handle.output_area;\n",
       "    var output = handle.output;\n",
       "\n",
       "    // limit handleAddOutput to display_data with EXEC_MIME_TYPE content only\n",
       "    if ((output.output_type != \"display_data\") || (!Object.prototype.hasOwnProperty.call(output.data, EXEC_MIME_TYPE))) {\n",
       "      return\n",
       "    }\n",
       "\n",
       "    var toinsert = output_area.element.find(\".\" + CLASS_NAME.split(' ')[0]);\n",
       "\n",
       "    if (output.metadata[EXEC_MIME_TYPE][\"id\"] !== undefined) {\n",
       "      toinsert[toinsert.length - 1].firstChild.textContent = output.data[JS_MIME_TYPE];\n",
       "      // store reference to embed id on output_area\n",
       "      output_area._bokeh_element_id = output.metadata[EXEC_MIME_TYPE][\"id\"];\n",
       "    }\n",
       "    if (output.metadata[EXEC_MIME_TYPE][\"server_id\"] !== undefined) {\n",
       "      var bk_div = document.createElement(\"div\");\n",
       "      bk_div.innerHTML = output.data[HTML_MIME_TYPE];\n",
       "      var script_attrs = bk_div.children[0].attributes;\n",
       "      for (var i = 0; i < script_attrs.length; i++) {\n",
       "        toinsert[toinsert.length - 1].firstChild.setAttribute(script_attrs[i].name, script_attrs[i].value);\n",
       "        toinsert[toinsert.length - 1].firstChild.textContent = bk_div.children[0].textContent\n",
       "      }\n",
       "      // store reference to server id on output_area\n",
       "      output_area._bokeh_server_id = output.metadata[EXEC_MIME_TYPE][\"server_id\"];\n",
       "    }\n",
       "  }\n",
       "\n",
       "  function register_renderer(events, OutputArea) {\n",
       "\n",
       "    function append_mime(data, metadata, element) {\n",
       "      // create a DOM node to render to\n",
       "      var toinsert = this.create_output_subarea(\n",
       "        metadata,\n",
       "        CLASS_NAME,\n",
       "        EXEC_MIME_TYPE\n",
       "      );\n",
       "      this.keyboard_manager.register_events(toinsert);\n",
       "      // Render to node\n",
       "      var props = {data: data, metadata: metadata[EXEC_MIME_TYPE]};\n",
       "      render(props, toinsert[toinsert.length - 1]);\n",
       "      element.append(toinsert);\n",
       "      return toinsert\n",
       "    }\n",
       "\n",
       "    /* Handle when an output is cleared or removed */\n",
       "    events.on('clear_output.CodeCell', handleClearOutput);\n",
       "    events.on('delete.Cell', handleClearOutput);\n",
       "\n",
       "    /* Handle when a new output is added */\n",
       "    events.on('output_added.OutputArea', handleAddOutput);\n",
       "\n",
       "    /**\n",
       "     * Register the mime type and append_mime function with output_area\n",
       "     */\n",
       "    OutputArea.prototype.register_mime_type(EXEC_MIME_TYPE, append_mime, {\n",
       "      /* Is output safe? */\n",
       "      safe: true,\n",
       "      /* Index of renderer in `output_area.display_order` */\n",
       "      index: 0\n",
       "    });\n",
       "  }\n",
       "\n",
       "  // register the mime type if in Jupyter Notebook environment and previously unregistered\n",
       "  if (root.Jupyter !== undefined) {\n",
       "    var events = require('base/js/events');\n",
       "    var OutputArea = require('notebook/js/outputarea').OutputArea;\n",
       "\n",
       "    if (OutputArea.prototype.mime_types().indexOf(EXEC_MIME_TYPE) == -1) {\n",
       "      register_renderer(events, OutputArea);\n",
       "    }\n",
       "  }\n",
       "\n",
       "  \n",
       "  if (typeof (root._bokeh_timeout) === \"undefined\" || force === true) {\n",
       "    root._bokeh_timeout = Date.now() + 5000;\n",
       "    root._bokeh_failed_load = false;\n",
       "  }\n",
       "\n",
       "  var NB_LOAD_WARNING = {'data': {'text/html':\n",
       "     \"<div style='background-color: #fdd'>\\n\"+\n",
       "     \"<p>\\n\"+\n",
       "     \"BokehJS does not appear to have successfully loaded. If loading BokehJS from CDN, this \\n\"+\n",
       "     \"may be due to a slow or bad network connection. Possible fixes:\\n\"+\n",
       "     \"</p>\\n\"+\n",
       "     \"<ul>\\n\"+\n",
       "     \"<li>re-rerun `output_notebook()` to attempt to load from CDN again, or</li>\\n\"+\n",
       "     \"<li>use INLINE resources instead, as so:</li>\\n\"+\n",
       "     \"</ul>\\n\"+\n",
       "     \"<code>\\n\"+\n",
       "     \"from bokeh.resources import INLINE\\n\"+\n",
       "     \"output_notebook(resources=INLINE)\\n\"+\n",
       "     \"</code>\\n\"+\n",
       "     \"</div>\"}};\n",
       "\n",
       "  function display_loaded() {\n",
       "    var el = document.getElementById(\"1002\");\n",
       "    if (el != null) {\n",
       "      el.textContent = \"BokehJS is loading...\";\n",
       "    }\n",
       "    if (root.Bokeh !== undefined) {\n",
       "      if (el != null) {\n",
       "        el.textContent = \"BokehJS \" + root.Bokeh.version + \" successfully loaded.\";\n",
       "      }\n",
       "    } else if (Date.now() < root._bokeh_timeout) {\n",
       "      setTimeout(display_loaded, 100)\n",
       "    }\n",
       "  }\n",
       "\n",
       "\n",
       "  function run_callbacks() {\n",
       "    try {\n",
       "      root._bokeh_onload_callbacks.forEach(function(callback) {\n",
       "        if (callback != null)\n",
       "          callback();\n",
       "      });\n",
       "    } finally {\n",
       "      delete root._bokeh_onload_callbacks\n",
       "    }\n",
       "    console.debug(\"Bokeh: all callbacks have finished\");\n",
       "  }\n",
       "\n",
       "  function load_libs(css_urls, js_urls, callback) {\n",
       "    if (css_urls == null) css_urls = [];\n",
       "    if (js_urls == null) js_urls = [];\n",
       "\n",
       "    root._bokeh_onload_callbacks.push(callback);\n",
       "    if (root._bokeh_is_loading > 0) {\n",
       "      console.debug(\"Bokeh: BokehJS is being loaded, scheduling callback at\", now());\n",
       "      return null;\n",
       "    }\n",
       "    if (js_urls == null || js_urls.length === 0) {\n",
       "      run_callbacks();\n",
       "      return null;\n",
       "    }\n",
       "    console.debug(\"Bokeh: BokehJS not loaded, scheduling load and callback at\", now());\n",
       "    root._bokeh_is_loading = css_urls.length + js_urls.length;\n",
       "\n",
       "    function on_load() {\n",
       "      root._bokeh_is_loading--;\n",
       "      if (root._bokeh_is_loading === 0) {\n",
       "        console.debug(\"Bokeh: all BokehJS libraries/stylesheets loaded\");\n",
       "        run_callbacks()\n",
       "      }\n",
       "    }\n",
       "\n",
       "    function on_error(url) {\n",
       "      console.error(\"failed to load \" + url);\n",
       "    }\n",
       "\n",
       "    for (let i = 0; i < css_urls.length; i++) {\n",
       "      const url = css_urls[i];\n",
       "      const element = document.createElement(\"link\");\n",
       "      element.onload = on_load;\n",
       "      element.onerror = on_error.bind(null, url);\n",
       "      element.rel = \"stylesheet\";\n",
       "      element.type = \"text/css\";\n",
       "      element.href = url;\n",
       "      console.debug(\"Bokeh: injecting link tag for BokehJS stylesheet: \", url);\n",
       "      document.body.appendChild(element);\n",
       "    }\n",
       "\n",
       "    const hashes = {\"https://cdn.bokeh.org/bokeh/release/bokeh-2.3.1.min.js\": \"YF85VygJKMVnHE+lLv2AM93Vbstr0yo2TbIu5v8se5Rq3UQAUmcuh4aaJwNlpKwa\", \"https://cdn.bokeh.org/bokeh/release/bokeh-widgets-2.3.1.min.js\": \"KKuas3gevv3PvrlkyCMzffFeaMq5we/a2QsP5AUoS3mJ0jmaCL7jirFJN3GoE/lM\", \"https://cdn.bokeh.org/bokeh/release/bokeh-tables-2.3.1.min.js\": \"MK/uFc3YT18pkvvXRl66tTHjP0/dxoSH2e/eiNMFIguKlun2+WVqaPTWmUy/zvh4\"};\n",
       "\n",
       "    for (let i = 0; i < js_urls.length; i++) {\n",
       "      const url = js_urls[i];\n",
       "      const element = document.createElement('script');\n",
       "      element.onload = on_load;\n",
       "      element.onerror = on_error.bind(null, url);\n",
       "      element.async = false;\n",
       "      element.src = url;\n",
       "      if (url in hashes) {\n",
       "        element.crossOrigin = \"anonymous\";\n",
       "        element.integrity = \"sha384-\" + hashes[url];\n",
       "      }\n",
       "      console.debug(\"Bokeh: injecting script tag for BokehJS library: \", url);\n",
       "      document.head.appendChild(element);\n",
       "    }\n",
       "  };\n",
       "\n",
       "  function inject_raw_css(css) {\n",
       "    const element = document.createElement(\"style\");\n",
       "    element.appendChild(document.createTextNode(css));\n",
       "    document.body.appendChild(element);\n",
       "  }\n",
       "\n",
       "  \n",
       "  var js_urls = [\"https://cdn.bokeh.org/bokeh/release/bokeh-2.3.1.min.js\", \"https://cdn.bokeh.org/bokeh/release/bokeh-widgets-2.3.1.min.js\", \"https://cdn.bokeh.org/bokeh/release/bokeh-tables-2.3.1.min.js\"];\n",
       "  var css_urls = [];\n",
       "  \n",
       "\n",
       "  var inline_js = [\n",
       "    function(Bokeh) {\n",
       "      Bokeh.set_log_level(\"info\");\n",
       "    },\n",
       "    function(Bokeh) {\n",
       "    \n",
       "    \n",
       "    }\n",
       "  ];\n",
       "\n",
       "  function run_inline_js() {\n",
       "    \n",
       "    if (root.Bokeh !== undefined || force === true) {\n",
       "      \n",
       "    for (var i = 0; i < inline_js.length; i++) {\n",
       "      inline_js[i].call(root, root.Bokeh);\n",
       "    }\n",
       "    if (force === true) {\n",
       "        display_loaded();\n",
       "      }} else if (Date.now() < root._bokeh_timeout) {\n",
       "      setTimeout(run_inline_js, 100);\n",
       "    } else if (!root._bokeh_failed_load) {\n",
       "      console.log(\"Bokeh: BokehJS failed to load within specified timeout.\");\n",
       "      root._bokeh_failed_load = true;\n",
       "    } else if (force !== true) {\n",
       "      var cell = $(document.getElementById(\"1002\")).parents('.cell').data().cell;\n",
       "      cell.output_area.append_execute_result(NB_LOAD_WARNING)\n",
       "    }\n",
       "\n",
       "  }\n",
       "\n",
       "  if (root._bokeh_is_loading === 0) {\n",
       "    console.debug(\"Bokeh: BokehJS loaded, going straight to plotting\");\n",
       "    run_inline_js();\n",
       "  } else {\n",
       "    load_libs(css_urls, js_urls, function() {\n",
       "      console.debug(\"Bokeh: BokehJS plotting callback run at\", now());\n",
       "      run_inline_js();\n",
       "    });\n",
       "  }\n",
       "}(window));"
      ],
      "application/vnd.bokehjs_load.v0+json": "\n(function(root) {\n  function now() {\n    return new Date();\n  }\n\n  var force = true;\n\n  if (typeof root._bokeh_onload_callbacks === \"undefined\" || force === true) {\n    root._bokeh_onload_callbacks = [];\n    root._bokeh_is_loading = undefined;\n  }\n\n  \n\n  \n  if (typeof (root._bokeh_timeout) === \"undefined\" || force === true) {\n    root._bokeh_timeout = Date.now() + 5000;\n    root._bokeh_failed_load = false;\n  }\n\n  var NB_LOAD_WARNING = {'data': {'text/html':\n     \"<div style='background-color: #fdd'>\\n\"+\n     \"<p>\\n\"+\n     \"BokehJS does not appear to have successfully loaded. If loading BokehJS from CDN, this \\n\"+\n     \"may be due to a slow or bad network connection. Possible fixes:\\n\"+\n     \"</p>\\n\"+\n     \"<ul>\\n\"+\n     \"<li>re-rerun `output_notebook()` to attempt to load from CDN again, or</li>\\n\"+\n     \"<li>use INLINE resources instead, as so:</li>\\n\"+\n     \"</ul>\\n\"+\n     \"<code>\\n\"+\n     \"from bokeh.resources import INLINE\\n\"+\n     \"output_notebook(resources=INLINE)\\n\"+\n     \"</code>\\n\"+\n     \"</div>\"}};\n\n  function display_loaded() {\n    var el = document.getElementById(\"1002\");\n    if (el != null) {\n      el.textContent = \"BokehJS is loading...\";\n    }\n    if (root.Bokeh !== undefined) {\n      if (el != null) {\n        el.textContent = \"BokehJS \" + root.Bokeh.version + \" successfully loaded.\";\n      }\n    } else if (Date.now() < root._bokeh_timeout) {\n      setTimeout(display_loaded, 100)\n    }\n  }\n\n\n  function run_callbacks() {\n    try {\n      root._bokeh_onload_callbacks.forEach(function(callback) {\n        if (callback != null)\n          callback();\n      });\n    } finally {\n      delete root._bokeh_onload_callbacks\n    }\n    console.debug(\"Bokeh: all callbacks have finished\");\n  }\n\n  function load_libs(css_urls, js_urls, callback) {\n    if (css_urls == null) css_urls = [];\n    if (js_urls == null) js_urls = [];\n\n    root._bokeh_onload_callbacks.push(callback);\n    if (root._bokeh_is_loading > 0) {\n      console.debug(\"Bokeh: BokehJS is being loaded, scheduling callback at\", now());\n      return null;\n    }\n    if (js_urls == null || js_urls.length === 0) {\n      run_callbacks();\n      return null;\n    }\n    console.debug(\"Bokeh: BokehJS not loaded, scheduling load and callback at\", now());\n    root._bokeh_is_loading = css_urls.length + js_urls.length;\n\n    function on_load() {\n      root._bokeh_is_loading--;\n      if (root._bokeh_is_loading === 0) {\n        console.debug(\"Bokeh: all BokehJS libraries/stylesheets loaded\");\n        run_callbacks()\n      }\n    }\n\n    function on_error(url) {\n      console.error(\"failed to load \" + url);\n    }\n\n    for (let i = 0; i < css_urls.length; i++) {\n      const url = css_urls[i];\n      const element = document.createElement(\"link\");\n      element.onload = on_load;\n      element.onerror = on_error.bind(null, url);\n      element.rel = \"stylesheet\";\n      element.type = \"text/css\";\n      element.href = url;\n      console.debug(\"Bokeh: injecting link tag for BokehJS stylesheet: \", url);\n      document.body.appendChild(element);\n    }\n\n    const hashes = {\"https://cdn.bokeh.org/bokeh/release/bokeh-2.3.1.min.js\": \"YF85VygJKMVnHE+lLv2AM93Vbstr0yo2TbIu5v8se5Rq3UQAUmcuh4aaJwNlpKwa\", \"https://cdn.bokeh.org/bokeh/release/bokeh-widgets-2.3.1.min.js\": \"KKuas3gevv3PvrlkyCMzffFeaMq5we/a2QsP5AUoS3mJ0jmaCL7jirFJN3GoE/lM\", \"https://cdn.bokeh.org/bokeh/release/bokeh-tables-2.3.1.min.js\": \"MK/uFc3YT18pkvvXRl66tTHjP0/dxoSH2e/eiNMFIguKlun2+WVqaPTWmUy/zvh4\"};\n\n    for (let i = 0; i < js_urls.length; i++) {\n      const url = js_urls[i];\n      const element = document.createElement('script');\n      element.onload = on_load;\n      element.onerror = on_error.bind(null, url);\n      element.async = false;\n      element.src = url;\n      if (url in hashes) {\n        element.crossOrigin = \"anonymous\";\n        element.integrity = \"sha384-\" + hashes[url];\n      }\n      console.debug(\"Bokeh: injecting script tag for BokehJS library: \", url);\n      document.head.appendChild(element);\n    }\n  };\n\n  function inject_raw_css(css) {\n    const element = document.createElement(\"style\");\n    element.appendChild(document.createTextNode(css));\n    document.body.appendChild(element);\n  }\n\n  \n  var js_urls = [\"https://cdn.bokeh.org/bokeh/release/bokeh-2.3.1.min.js\", \"https://cdn.bokeh.org/bokeh/release/bokeh-widgets-2.3.1.min.js\", \"https://cdn.bokeh.org/bokeh/release/bokeh-tables-2.3.1.min.js\"];\n  var css_urls = [];\n  \n\n  var inline_js = [\n    function(Bokeh) {\n      Bokeh.set_log_level(\"info\");\n    },\n    function(Bokeh) {\n    \n    \n    }\n  ];\n\n  function run_inline_js() {\n    \n    if (root.Bokeh !== undefined || force === true) {\n      \n    for (var i = 0; i < inline_js.length; i++) {\n      inline_js[i].call(root, root.Bokeh);\n    }\n    if (force === true) {\n        display_loaded();\n      }} else if (Date.now() < root._bokeh_timeout) {\n      setTimeout(run_inline_js, 100);\n    } else if (!root._bokeh_failed_load) {\n      console.log(\"Bokeh: BokehJS failed to load within specified timeout.\");\n      root._bokeh_failed_load = true;\n    } else if (force !== true) {\n      var cell = $(document.getElementById(\"1002\")).parents('.cell').data().cell;\n      cell.output_area.append_execute_result(NB_LOAD_WARNING)\n    }\n\n  }\n\n  if (root._bokeh_is_loading === 0) {\n    console.debug(\"Bokeh: BokehJS loaded, going straight to plotting\");\n    run_inline_js();\n  } else {\n    load_libs(css_urls, js_urls, function() {\n      console.debug(\"Bokeh: BokehJS plotting callback run at\", now());\n      run_inline_js();\n    });\n  }\n}(window));"
     },
     "metadata": {},
     "output_type": "display_data"
    }
   ],
   "source": [
    "import joblib\n",
    "import warnings\n",
    "import pandas as pd\n",
    "import numpy as np\n",
    "from random import choice\n",
    "from datetime import datetime, timedelta\n",
    "from bokeh.plotting import figure, show\n",
    "from bokeh.models import Span\n",
    "from bokeh.io import output_notebook\n",
    "from sklearn.metrics import (\n",
    "    mean_squared_error,\n",
    "    mean_squared_log_error,\n",
    "    mean_absolute_error,\n",
    "    r2_score,\n",
    ")\n",
    "\n",
    "dataset_period = [datetime.strptime('2013-07-01', '%Y-%m-%d'), datetime.strptime('2017-10-01', '%Y-%m-%d')]\n",
    "test_period = [datetime.strptime('2017-10-01', '%Y-%m-%d') - timedelta(days=80), datetime.strptime('2017-10-01', '%Y-%m-%d')]\n",
    "valid_period = [test_period[0] - timedelta(days=40), test_period[0]]\n",
    "train_period = [dataset_period[0], valid_period[0]]\n",
    "predict_time = \"H\"\n",
    "sample_station = np.asarray([491,3002, 545, 412, 2000, 3409, 422, 3360, 3382, 3096, 3376, 3400, 3289, 275, 3413, 3329, 3421, 3053, 512, 2017])\n",
    "\n",
    "output_notebook()\n",
    "log_path = \"logs/lsgnn\"\n",
    "warnings.filterwarnings(\"ignore\")"
   ]
  },
  {
   "cell_type": "code",
   "execution_count": 2,
   "metadata": {},
   "outputs": [],
   "source": [
    "def caculate_loss(y_true, y_pred):\n",
    "    rmse = mean_squared_error(y_true, y_pred, squared=False)\n",
    "    rmsle = np.sqrt(mean_squared_log_error(y_true, y_pred))\n",
    "    mae = mean_absolute_error(y_true, y_pred)\n",
    "    corr = np.corrcoef(y_true, y_pred)[0, 1]\n",
    "    r2 = r2_score(y_true, y_pred)\n",
    "\n",
    "    print(\"rmse:%f  rmsle:%f  mae:%f  corr:%f  r2:%f\" % (rmse, rmsle, mae, corr, r2))"
   ]
  },
  {
   "cell_type": "code",
   "execution_count": 3,
   "metadata": {},
   "outputs": [],
   "source": [
    "def draw_picture(df):\n",
    "    df[\"y_pred\"] = np.around(df[\"y_pred\"].values)\n",
    "    p = figure(\n",
    "        plot_width=1500,\n",
    "        plot_height=500,\n",
    "        x_axis_type=\"datetime\",\n",
    "        x_axis_label=\"time\",\n",
    "        y_axis_label=\"flow\",\n",
    "    )\n",
    "    p.xaxis.axis_label_text_font_size = \"20pt\"\n",
    "    p.yaxis.axis_label_text_font_size = \"20pt\"\n",
    "\n",
    "    for column, color in zip([\"y\", \"y_pred\"], [\"#FF0000\", \"#00BFFF\"]):\n",
    "        p.line(df.time, df[column], color=color, legend_label=column)\n",
    "        p.circle(df.time, df[column], color=color, line_width=0.25, legend_label=column)\n",
    "\n",
    "    p.legend.location = \"top_right\"\n",
    "    p.legend.label_text_font_size = \"20pt\"\n",
    "    p.legend.click_policy = \"hide\"\n",
    "    show(p)\n",
    "\n",
    "    p = figure(\n",
    "        plot_width=1500, plot_height=500, x_axis_label=\"target\", y_axis_label=\"predict\",\n",
    "    )\n",
    "    p.xaxis.axis_label_text_font_size = \"20pt\"\n",
    "    p.yaxis.axis_label_text_font_size = \"20pt\"\n",
    "\n",
    "    p.circle(df.y, df.y_pred, line_width=0.25)\n",
    "    show(p)"
   ]
  },
  {
   "cell_type": "code",
   "execution_count": 4,
   "metadata": {},
   "outputs": [],
   "source": [
    "features = pd.read_hdf('process_data/features_201307_201709.h5', key='features')\n",
    "station_info = pd.read_hdf(\"process_data/features_201307_201709.h5\", key=\"info\")\n",
    "alive_df = pd.read_hdf(\"process_data/features_201307_201709.h5\", key=\"alive\")\n",
    "alive_df = alive_df.query('@test_period[0] <= time < @test_period[1]')\n",
    "predict_df = features[['time','stationid','y_in', 'y_out']].query('@test_period[0] <= time < @test_period[1] & @alive_df.is_alive == 1')\n",
    "predicts = np.load(f\"{log_path}/predicts.npy\")\n",
    "predict_df['y_in_pred'] = predicts[:,0]\n",
    "predict_df['y_out_pred'] = predicts[:,1]"
   ]
  },
  {
   "cell_type": "raw",
   "metadata": {},
   "source": [
    "features = pd.read_hdf('process_data/features_201307_201709.h5', key='features')\n",
    "station_info = pd.read_hdf(\"process_data/features_201307_201709.h5\", key=\"info\")\n",
    "alive_df = pd.read_hdf(\"process_data/features_201307_201709.h5\", key=\"alive\")\n",
    "t = valid_period[0] + timedelta(days=20)\n",
    "alive_df = alive_df.query('@t <= time < @test_period[1]')\n",
    "predict_df = features[['time','stationid','y_in', 'y_out']].query('@t <= time < @test_period[1] & @alive_df.is_alive == 1')\n",
    "predicts = np.load(f\"{log_path}/predicts.npy\")\n",
    "predict_df['y_in_pred'] = predicts[:,0]\n",
    "predict_df['y_out_pred'] = predicts[:,1]\n",
    "predict_df.query('@test_period[0] <= time < @test_period[1]', inplace=True)"
   ]
  },
  {
   "cell_type": "code",
   "execution_count": 5,
   "metadata": {},
   "outputs": [],
   "source": [
    "predict_df_in = (\n",
    "    predict_df\n",
    "    .rename(columns={\"y_in_pred\": \"y_pred\", \"y_in\": \"y\"})\n",
    ")\n",
    "predict_df_out = (\n",
    "    predict_df\n",
    "    .rename(columns={\"y_out_pred\": \"y_pred\", \"y_out\": \"y\"})\n",
    ")\n",
    "\n",
    "stationid_sort = predict_df.groupby('stationid')['y_in'].sum().sort_values(ascending=False).index"
   ]
  },
  {
   "cell_type": "markdown",
   "metadata": {},
   "source": [
    "# Total Loss"
   ]
  },
  {
   "cell_type": "code",
   "execution_count": 6,
   "metadata": {},
   "outputs": [
    {
     "name": "stdout",
     "output_type": "stream",
     "text": [
      "IN\n",
      "rmse:2.682094  rmsle:0.483088  mae:1.530344  corr:0.914653  r2:0.834008\n",
      "\n",
      "\n",
      "OUT\n",
      "rmse:2.824671  rmsle:0.495038  mae:1.589048  corr:0.906113  r2:0.819017\n",
      "\n",
      "\n",
      "MEAN IN:3.868508017078426|MEAN OUT:3.868203163210004\n",
      "STD IN:6.583105898857261|STD OUT:6.639713972154361\n"
     ]
    }
   ],
   "source": [
    "print(\"IN\")\n",
    "caculate_loss(predict_df_in.y.values, predict_df_in.y_pred.values)\n",
    "print(\"\\n\")\n",
    "print(\"OUT\")\n",
    "caculate_loss(predict_df_out.y.values, predict_df_out.y_pred.values)\n",
    "print(\"\\n\")\n",
    "print(f\"MEAN IN:{predict_df_in.y.mean()}|MEAN OUT:{predict_df_out.y.mean()}\")\n",
    "print(f\"STD IN:{predict_df_in.y.std()}|STD OUT:{predict_df_out.y.std()}\")"
   ]
  },
  {
   "cell_type": "markdown",
   "metadata": {},
   "source": [
    "# Top 5 Loss"
   ]
  },
  {
   "cell_type": "code",
   "execution_count": 7,
   "metadata": {},
   "outputs": [
    {
     "name": "stdout",
     "output_type": "stream",
     "text": [
      "IN\n",
      "rmse:7.040835  rmsle:0.482043  mae:4.424228  corr:0.945233  r2:0.889956\n",
      "\n",
      "\n",
      "OUT\n",
      "rmse:7.556141  rmsle:0.499779  mae:4.627099  corr:0.943303  r2:0.886272\n",
      "\n",
      "\n",
      "MEAN IN:18.183125|MEAN OUT:17.635520833333334\n",
      "STD IN:21.225821052359954|STD OUT:22.407313201368957\n"
     ]
    }
   ],
   "source": [
    "top_in = predict_df_in[predict_df_in.stationid.isin(stationid_sort[:5])]\n",
    "top_out = predict_df_out[predict_df_out.stationid.isin(stationid_sort[:5])]\n",
    "print(\"IN\")\n",
    "caculate_loss(top_in.y.values, top_in.y_pred.values)\n",
    "print(\"\\n\")\n",
    "print(\"OUT\")\n",
    "caculate_loss(top_out.y.values, top_out.y_pred.values)\n",
    "print(\"\\n\")\n",
    "print(f\"MEAN IN:{top_in.y.mean()}|MEAN OUT:{top_out.y.mean()}\")\n",
    "print(f\"STD IN:{top_in.y.std()}|STD OUT:{top_out.y.std()}\")"
   ]
  },
  {
   "cell_type": "markdown",
   "metadata": {},
   "source": [
    "# Top 10 Loss"
   ]
  },
  {
   "cell_type": "code",
   "execution_count": 8,
   "metadata": {
    "tags": []
   },
   "outputs": [
    {
     "name": "stdout",
     "output_type": "stream",
     "text": [
      "IN\n",
      "rmse:6.311230  rmsle:0.461519  mae:3.990096  corr:0.941483  r2:0.881923\n",
      "\n",
      "\n",
      "OUT\n",
      "rmse:6.996050  rmsle:0.483154  mae:4.189957  corr:0.936091  r2:0.870322\n",
      "\n",
      "\n",
      "MEAN IN:16.17380208333333|MEAN OUT:15.842239583333333\n",
      "STD IN:18.367155886458367|STD OUT:19.428129568677356\n"
     ]
    }
   ],
   "source": [
    "top_in = predict_df_in[predict_df_in.stationid.isin(stationid_sort[:10])]\n",
    "top_out = predict_df_out[predict_df_out.stationid.isin(stationid_sort[:10])]\n",
    "print(\"IN\")\n",
    "caculate_loss(top_in.y.values, top_in.y_pred.values)\n",
    "print(\"\\n\")\n",
    "print(\"OUT\")\n",
    "caculate_loss(top_out.y.values, top_out.y_pred.values)\n",
    "print(\"\\n\")\n",
    "print(f\"MEAN IN:{top_in.y.mean()}|MEAN OUT:{top_out.y.mean()}\")\n",
    "print(f\"STD IN:{top_in.y.std()}|STD OUT:{top_out.y.std()}\")"
   ]
  },
  {
   "cell_type": "markdown",
   "metadata": {},
   "source": [
    "# 尖峰 Loss"
   ]
  },
  {
   "cell_type": "code",
   "execution_count": 9,
   "metadata": {
    "tags": []
   },
   "outputs": [
    {
     "name": "stdout",
     "output_type": "stream",
     "text": [
      "IN threashold:20\n",
      "OUT threashold:19\n"
     ]
    }
   ],
   "source": [
    "\"\"\"\n",
    "先把y值為0數據拿掉，再以95百分為高峰門檻\n",
    "\"\"\"\n",
    "print(\"IN threashold:%i\" % (predict_df_in.query(\"y > 0\").y.quantile(0.95)))\n",
    "print(\"OUT threashold:%i\" % (predict_df_out.query(\"y > 0\").y.quantile(0.95)))"
   ]
  },
  {
   "cell_type": "code",
   "execution_count": 10,
   "metadata": {
    "tags": []
   },
   "outputs": [
    {
     "name": "stdout",
     "output_type": "stream",
     "text": [
      "IN\n",
      "rmse:9.147926  rmsle:0.353625  mae:7.090597  corr:0.833079  r2:0.487152\n",
      "\n",
      "\n",
      "OUT\n",
      "rmse:9.660765  rmsle:0.387180  mae:7.362872  corr:0.826561  r2:0.490891\n",
      "\n",
      "\n",
      "MEAN IN:29.41846883607059|MEAN OUT:28.318963133640555\n",
      "STD IN:12.774210067831154|STD OUT:13.539769820440169\n"
     ]
    }
   ],
   "source": [
    "top_in = predict_df_in.query(\"y >= 20\")\n",
    "top_out = predict_df_out.query(\"y >= 19\")\n",
    "print(\"IN\")\n",
    "caculate_loss(top_in.y.values, top_in.y_pred.values)\n",
    "print(\"\\n\")\n",
    "\n",
    "print(\"OUT\")\n",
    "caculate_loss(top_out.y.values, top_out.y_pred.values)\n",
    "print(\"\\n\")\n",
    "print(f\"MEAN IN:{top_in.y.mean()}|MEAN OUT:{top_out.y.mean()}\")\n",
    "print(f\"STD IN:{top_in.y.std()}|STD OUT:{top_out.y.std()}\")"
   ]
  },
  {
   "cell_type": "code",
   "execution_count": 11,
   "metadata": {
    "tags": []
   },
   "outputs": [],
   "source": [
    "%matplotlib inline\n",
    "import matplotlib.pyplot as plt\n",
    "plt.style.use('seaborn-whitegrid')"
   ]
  },
  {
   "cell_type": "code",
   "execution_count": 43,
   "metadata": {
    "tags": []
   },
   "outputs": [
    {
     "data": {
      "image/png": "[encoded data removed]",
      "text/plain": [
       "<Figure size 720x720 with 1 Axes>"
      ]
     },
     "metadata": {},
     "output_type": "display_data"
    }
   ],
   "source": [
    "x_in = np.log1p(np.array([3.868508017078426, 16.17380208333333, 18.183125, 29.41846883607059]))\n",
    "x_out = np.log1p(np.array([3.868203163210004, 15.842239583333333, 17.635520833333334, 28.318963133640555]))\n",
    "\n",
    "plt.figure(figsize=(10,10))\n",
    "plt.plot(x_in, [2.68, 6.31, 7.04, 9.15], color='deepskyblue', linewidth=2)\n",
    "plt.scatter(x_in, [2.68, 6.31, 7.04, 9.15], color='deepskyblue', s=200)\n",
    "plt.plot([], [], '-o', color='deepskyblue', label='LSTGNN(IN)')\n",
    "\n",
    "plt.plot(x_out, [2.82, 7.00, 7.56, 9.66], color='deepskyblue', linewidth=2, linestyle='--')\n",
    "plt.scatter(x_out, [2.82, 7.00, 7.56, 9.66], color='deepskyblue', s=200 )\n",
    "plt.plot([], [], '--o', color='deepskyblue', label='LSTGNN(OUT)')\n",
    "\n",
    "plt.plot(x_in, [3.23, 8.75, 9.98, 11.85], color='mediumseagreen', linewidth=2)\n",
    "plt.scatter(x_in, [3.23, 8.75, 9.98, 11.85], color='mediumseagreen', marker='*', s=200)\n",
    "plt.plot([], [], '-*', color='mediumseagreen', label='MGCN(IN)')\n",
    "\n",
    "plt.plot(x_out, [3.50, 10.53, 10.81, 12.99], color='mediumseagreen', linewidth=2, linestyle='--')\n",
    "plt.scatter(x_out, [3.50, 10.53, 10.81, 12.99], color='mediumseagreen', marker='*', s=200)\n",
    "plt.plot([], [], '--*', color='mediumseagreen', label='MGCN(OUT)')\n",
    "\n",
    "plt.plot(x_in, [4.28, 12.22, 14.00, 15.77], color='tomato', linewidth=2)\n",
    "plt.scatter(x_in, [4.28, 12.22, 14.00, 15.77], color='tomato', marker='x', s=200)\n",
    "plt.plot([], [], '-x', color='tomato', label='ARIMA(IN)')\n",
    "\n",
    "plt.plot(x_out, [4.59, 14.16, 16.16, 16.74], color='tomato', linewidth=2, linestyle='--')\n",
    "plt.scatter(x_out, [4.59, 14.16, 16.16, 16.74], color='tomato', marker='x', s=200)\n",
    "plt.plot([], [], '--x', color='tomato', label='ARIMA(OUT)')\n",
    "\n",
    "plt.plot(x_in, [3.63, 9.85, 11.21, 14.12], color='darkviolet', linewidth=2)\n",
    "plt.scatter(x_in, [3.63, 9.85, 11.21, 14.12], color='darkviolet', marker='^', s=200)\n",
    "plt.plot([], [], '-^', color='darkviolet', label='SARIMA(IN)')\n",
    "\n",
    "plt.plot(x_out, [4.05, 11.18, 12.58, 15.58], color='darkviolet', linewidth=2, linestyle='--')\n",
    "plt.scatter(x_out, [4.05, 11.18, 12.58, 15.58], color='darkviolet', marker='^', s=200)\n",
    "plt.plot([], [], '--^', color='darkviolet', label='SARIMA(OUT)')\n",
    "\n",
    "plt.legend(prop={'size': 20}, markerscale=2)\n",
    "plt.xlabel(\"log of mean flow\", fontsize=20)\n",
    "plt.ylabel(\"rmse\", fontsize=20)\n",
    "plt.savefig(\"mean_flow_rmse\")\n",
    "plt.show()"
   ]
  },
  {
   "cell_type": "raw",
   "metadata": {
    "jupyter": {
     "source_hidden": true
    },
    "tags": []
   },
   "source": [
    "p = figure(\n",
    "    plot_width=1500, plot_height=800, x_axis_label=\"target\", y_axis_label=\"predict\",\n",
    ")\n",
    "p.xaxis.axis_label_text_font_size = \"20pt\"\n",
    "p.yaxis.axis_label_text_font_size = \"20pt\"\n",
    "\n",
    "p.line(np.arange(0,top5_in_mgcn.y.max(),1), np.arange(0,top5_in_mgcn.y.max(),1), color='red', line_width=2)\n",
    "hline = Span(location=top5_in_mgcn.y.mean(), dimension='width', line_color='green', line_width=2, line_dash=\"4 4\")\n",
    "p.renderers.extend([hline])\n",
    "p.circle(top5_in_mgcn.y, top5_in_mgcn.y_pred, line_width=0.25)\n",
    "show(p)"
   ]
  },
  {
   "cell_type": "raw",
   "metadata": {
    "jupyter": {
     "source_hidden": true
    },
    "tags": []
   },
   "source": [
    "plt.figure(figsize=(15,10))\n",
    "\n",
    "\n",
    "plt.plot(np.arange(20,212,1), np.arange(20,212,1), color='tomato', linewidth=2)\n",
    "plt.axhline(y=top_out.y.mean(), color='mediumseagreen', linestyle='--')\n",
    "plt.scatter(top_out.y, top_out.y_pred, s=4)\n",
    "\n",
    "plt.xticks(np.arange())\n",
    "plt.xlabel(\"observation\", fontsize=20)\n",
    "plt.ylabel(\"predict\", fontsize=20)\n",
    "# plt.savefig(\"mean_flow_rmse\")\n",
    "plt.show()"
   ]
  },
  {
   "cell_type": "markdown",
   "metadata": {},
   "source": [
    "# 場站預測流量圖"
   ]
  },
  {
   "cell_type": "code",
   "execution_count": null,
   "metadata": {},
   "outputs": [],
   "source": [
    "def draw_picture_plt(df, filename):\n",
    "    df[\"y_pred\"] = np.around(df[\"y_pred\"].values)\n",
    "    plt.figure(figsize=(25,10))\n",
    "    \n",
    "    plt.plot(df.time, df.y_pred, color='deepskyblue', linewidth=2, label='prediction')\n",
    "    plt.scatter(df.time, df.y_pred, color='deepskyblue', linewidth=2)\n",
    "    plt.plot(df.time, df.y, color='tomato', linewidth=2, label='obseration')\n",
    "    plt.scatter(df.time, df.y, color='tomato', linewidth=2)\n",
    "    \n",
    "    plt.legend(prop={'size': 20})\n",
    "    plt.xlabel(\"time\", fontsize=25)\n",
    "    plt.ylabel(\"flow\", fontsize=25)\n",
    "    plt.xticks(fontsize=15)\n",
    "    plt.savefig(filename)\n",
    "    plt.show()"
   ]
  },
  {
   "cell_type": "code",
   "execution_count": null,
   "metadata": {},
   "outputs": [],
   "source": [
    "no = stationid_sort[0]\n",
    "# no = stationid_sort[5]\n",
    "df = predict_df_in.query(\"stationid == @no\")\n",
    "df = df[(df.time >= datetime.strptime('2017-08-14', '%Y-%m-%d')) & (df.time < datetime.strptime('2017-08-21', '%Y-%m-%d'))]\n",
    "# df = df[(df.time >= datetime.strptime('2017-08-31', '%Y-%m-%d')) & (df.time < datetime.strptime('2017-09-06', '%Y-%m-%d'))]\n",
    "draw_picture_plt(df, \"LSTGNN_normal\")\n",
    "# draw_picture_plt(df, \"LSTGNN_labor\")"
   ]
  },
  {
   "cell_type": "code",
   "execution_count": null,
   "metadata": {},
   "outputs": [],
   "source": [
    "no = stationid_sort[0]\n",
    "df = predict_df_in.query(\"stationid == @no\")\n",
    "caculate_loss(df.y.values, df.y_pred.values)\n",
    "draw_picture(df)\n",
    "\n",
    "df = predict_df_out.query(\"stationid == @no\")\n",
    "caculate_loss(df.y.values, df.y_pred.values)\n",
    "draw_picture(df)"
   ]
  },
  {
   "cell_type": "markdown",
   "metadata": {},
   "source": [
    "# 散點圖表示流量與loss"
   ]
  },
  {
   "cell_type": "code",
   "execution_count": null,
   "metadata": {},
   "outputs": [],
   "source": [
    "def caculate_loss_df(df):\n",
    "    y_true = df.y.values\n",
    "    y_pred = df.y_pred.values\n",
    "    rmse = np.sqrt(mean_squared_error(y_true, y_pred))\n",
    "    rmsle = np.sqrt(mean_squared_log_error(y_true, y_pred))\n",
    "    mae = mean_absolute_error(y_true, y_pred)\n",
    "    corr = np.corrcoef(y_true, y_pred)[0, 1]\n",
    "    r2 = r2_score(y_true, y_pred)\n",
    "\n",
    "    return pd.DataFrame(\n",
    "        {\n",
    "            \"sum_flow\": df.y.sum(),\n",
    "            \"mean_flow\": df.y.mean(),\n",
    "            \"median_flow\": df.y.median(),\n",
    "            \"rmse\": [rmse],\n",
    "            \"rmsle\": [rmsle],\n",
    "            \"mae\": [mae],\n",
    "            \"corr\": [corr],\n",
    "            \"r2\": [r2],\n",
    "        }\n",
    "    )"
   ]
  },
  {
   "cell_type": "code",
   "execution_count": null,
   "metadata": {},
   "outputs": [],
   "source": [
    "def draw_loss_picture(df):\n",
    "    for column in [\"rmse\", \"rmsle\", \"mae\", \"corr\", \"r2\"]:\n",
    "        p = figure(\n",
    "            plot_width=1000, plot_height=500, x_axis_label=\"flow\", y_axis_label=column,\n",
    "        )\n",
    "        p.xaxis.axis_label_text_font_size = \"20pt\"\n",
    "        p.yaxis.axis_label_text_font_size = \"20pt\"\n",
    "\n",
    "        p.circle(df.flow, df[column], line_width=0.25)\n",
    "        show(p)"
   ]
  },
  {
   "cell_type": "code",
   "execution_count": null,
   "metadata": {},
   "outputs": [],
   "source": [
    "df = pd.concat(\n",
    "    [\n",
    "        predict_df_in.groupby(\"stationid\").apply(caculate_loss_df).reset_index(level=0).set_index('stationid').add_prefix('in_'),\n",
    "        predict_df_out.groupby(\"stationid\").apply(caculate_loss_df).reset_index(level=0).set_index('stationid').add_prefix('out_')\n",
    "    ],\n",
    "    axis=1,\n",
    ").sort_values('in_sum_flow', ascending=False)"
   ]
  },
  {
   "cell_type": "code",
   "execution_count": null,
   "metadata": {},
   "outputs": [],
   "source": [
    "df.to_csv(f'{log_path}/performance.csv')"
   ]
  },
  {
   "cell_type": "markdown",
   "metadata": {},
   "source": [
    "# IN"
   ]
  },
  {
   "cell_type": "code",
   "execution_count": null,
   "metadata": {},
   "outputs": [],
   "source": [
    "draw_loss_picture(\n",
    "    predict_df_in.groupby(\"stationid\").apply(caculate_loss_df).reset_index(level=0)\n",
    ")"
   ]
  },
  {
   "cell_type": "markdown",
   "metadata": {},
   "source": [
    "# OUT"
   ]
  },
  {
   "cell_type": "code",
   "execution_count": null,
   "metadata": {},
   "outputs": [],
   "source": [
    "draw_loss_picture(\n",
    "    predict_df_out.groupby(\"stationid\").apply(caculate_loss_df).reset_index(level=0)\n",
    ")"
   ]
  },
  {
   "cell_type": "code",
   "execution_count": null,
   "metadata": {},
   "outputs": [],
   "source": []
  }
 ],
 "metadata": {
  "kernelspec": {
   "display_name": "gnn_bike",
   "language": "python",
   "name": "gnn_bike"
  },
  "language_info": {
   "codemirror_mode": {
    "name": "ipython",
    "version": 3
   },
   "file_extension": ".py",
   "mimetype": "text/x-python",
   "name": "python",
   "nbconvert_exporter": "python",
   "pygments_lexer": "ipython3",
   "version": "3.8.10"
  }
 },
 "nbformat": 4,
 "nbformat_minor": 4
}
